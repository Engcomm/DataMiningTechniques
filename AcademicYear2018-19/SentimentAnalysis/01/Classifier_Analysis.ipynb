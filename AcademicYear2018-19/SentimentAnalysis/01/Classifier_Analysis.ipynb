{
 "cells": [
  {
   "cell_type": "code",
   "execution_count": 1,
   "metadata": {},
   "outputs": [],
   "source": [
    "import sklearn\n",
    "import gensim\n",
    "import pandas as pd \n",
    "import numpy as np\n",
    "import nltk\n",
    "import logging\n",
    "from nltk.corpus import stopwords\n",
    "from nltk import word_tokenize\n",
    "import string\n",
    "\n",
    "from sklearn.feature_extraction.text import TfidfVectorizer\n",
    "from sklearn.feature_extraction.text import CountVectorizer\n",
    "from sklearn.linear_model.logistic import LogisticRegression\n",
    "from sklearn.model_selection import train_test_split, cross_val_score\n",
    "\n",
    "from sklearn import preprocessing\n",
    "\n",
    "logging.basicConfig(format='%(asctime)s : %(levelname)s : %(message)s', level=logging.INFO)"
   ]
  },
  {
   "cell_type": "markdown",
   "metadata": {},
   "source": [
    "dowload NLTK"
   ]
  },
  {
   "cell_type": "code",
   "execution_count": 2,
   "metadata": {},
   "outputs": [],
   "source": [
    "#nltk.download('all')"
   ]
  },
  {
   "cell_type": "markdown",
   "metadata": {},
   "source": [
    "Load our dataset using pandas"
   ]
  },
  {
   "cell_type": "code",
   "execution_count": 3,
   "metadata": {},
   "outputs": [],
   "source": [
    "train_df = pd.read_table(\"C:\\\\Users\\\\chris_000\\\\Desktop\\\\train2017.tsv\",names=[\"Id1\", \"Id2\", \"Sentiment\", \"Tweet\"],engine=\"python\", sep=\"\\t+\",escapechar=\"\\\\\")"
   ]
  },
  {
   "cell_type": "markdown",
   "metadata": {},
   "source": [
    "Use this function as a parser for our embeddings, we will use the 200 features embeddings \n"
   ]
  },
  {
   "cell_type": "code",
   "execution_count": 4,
   "metadata": {},
   "outputs": [],
   "source": [
    "from os.path import basename, dirname\n",
    "\n",
    "\n",
    "# Preprocess pretrained text vectors\n",
    "# and stores them in a suitable format (.npy)\n",
    "\n",
    "def txtvec2npy(v_path, base_path_save, dest_filename):\n",
    "    \"\"\"\n",
    "    Preprocess pretrained text vectors and stores them in a suitable format\n",
    "    :param v_path: Path to the text vectors file.\n",
    "    :param base_path_save: Path where the formatted vectors will be stored.\n",
    "    :param dest_filename: Filename of the formatted vectors.\n",
    "    \"\"\"\n",
    "    word_vecs = dict()\n",
    "    print (\"Loading vectors from %s\" % v_path)\n",
    "    vectors = [x[:-1] for x in open(v_path).readlines()]\n",
    "    if len(vectors[0].split()) == 2:\n",
    "        signature = vectors.pop(0).split()\n",
    "        dimension = int(signature[1])\n",
    "        n_vecs = len(vectors)\n",
    "        assert int(signature[0]) == n_vecs, 'The number of read vectors does not match with the expected one (read %d, expected %d)' % (n_vecs, int(signature[0]))\n",
    "    else:\n",
    "        n_vecs = len(vectors)\n",
    "        dimension = len(vectors[0].split()) - 1\n",
    "\n",
    "    print (\"Found %d vectors of dimension %d in %s\" % (n_vecs, dimension, v_path))\n",
    "    i = 0\n",
    "    for vector in vectors:\n",
    "        v = vector.split()\n",
    "        vec = np.asarray(v[-dimension:], dtype='float32')\n",
    "        word = ' '.join(v[0: len(v) - dimension])\n",
    "        word_vecs[word] = vec\n",
    "        i += 1\n",
    "        if i % 100000 == 0:\n",
    "            print (\"Processed %d vectors (%.2f %%)\\r\" % (i, 100 * float(i) / n_vecs),)\n",
    "\n",
    "    print (\"\")\n",
    "    # Store dict\n",
    "    print (\"Saving word vectors in %s\" % (base_path_save + dest_filename + '.npy'))\n",
    "    np.save(base_path_save + dest_filename + '.npy', word_vecs)\n",
    "    print (\"\")\n",
    "    return word_vecs"
   ]
  },
  {
   "cell_type": "markdown",
   "metadata": {},
   "source": [
    "Load the embeddings file (this also saves the file to the specified path)"
   ]
  },
  {
   "cell_type": "code",
   "execution_count": 5,
   "metadata": {},
   "outputs": [
    {
     "name": "stdout",
     "output_type": "stream",
     "text": [
      "Loading vectors from C:\\Users\\chris_000\\Desktop\\datastories.twitter.200d.txt\n",
      "Found 658125 vectors of dimension 200 in C:\\Users\\chris_000\\Desktop\\datastories.twitter.200d.txt\n",
      "('Processed 100000 vectors (15.19 %)\\r',)\n",
      "('Processed 200000 vectors (30.39 %)\\r',)\n",
      "('Processed 300000 vectors (45.58 %)\\r',)\n",
      "('Processed 400000 vectors (60.78 %)\\r',)\n",
      "('Processed 500000 vectors (75.97 %)\\r',)\n",
      "('Processed 600000 vectors (91.17 %)\\r',)\n",
      "\n",
      "Saving word vectors in C:\\Users\\chris_000\\Desktop\\word_emb.npy\n",
      "\n"
     ]
    }
   ],
   "source": [
    "v_path = \"C:\\\\Users\\\\chris_000\\\\Desktop\\\\datastories.twitter.200d.txt\"\n",
    "base_path_save = \"C:\\\\Users\\\\chris_000\\\\Desktop\\\\\"\n",
    "dest_filename = \"word_emb\"\n",
    "word_vec=txtvec2npy(v_path, base_path_save, dest_filename)"
   ]
  },
  {
   "cell_type": "code",
   "execution_count": 6,
   "metadata": {},
   "outputs": [
    {
     "data": {
      "text/html": [
       "<div>\n",
       "<style scoped>\n",
       "    .dataframe tbody tr th:only-of-type {\n",
       "        vertical-align: middle;\n",
       "    }\n",
       "\n",
       "    .dataframe tbody tr th {\n",
       "        vertical-align: top;\n",
       "    }\n",
       "\n",
       "    .dataframe thead th {\n",
       "        text-align: right;\n",
       "    }\n",
       "</style>\n",
       "<table border=\"1\" class=\"dataframe\">\n",
       "  <thead>\n",
       "    <tr style=\"text-align: right;\">\n",
       "      <th></th>\n",
       "      <th>Sentiment</th>\n",
       "      <th>Tweet</th>\n",
       "    </tr>\n",
       "  </thead>\n",
       "  <tbody>\n",
       "    <tr>\n",
       "      <th>0</th>\n",
       "      <td>positive</td>\n",
       "      <td>Gas by my house hit $3.39!!!! I'm going to Cha...</td>\n",
       "    </tr>\n",
       "    <tr>\n",
       "      <th>1</th>\n",
       "      <td>negative</td>\n",
       "      <td>Theo Walcott is still shit, watch Rafa and Joh...</td>\n",
       "    </tr>\n",
       "    <tr>\n",
       "      <th>2</th>\n",
       "      <td>negative</td>\n",
       "      <td>its not that I'm a GSP fan, i just hate Nick D...</td>\n",
       "    </tr>\n",
       "    <tr>\n",
       "      <th>3</th>\n",
       "      <td>negative</td>\n",
       "      <td>Iranian general says Israel's Iron Dome can't ...</td>\n",
       "    </tr>\n",
       "    <tr>\n",
       "      <th>4</th>\n",
       "      <td>neutral</td>\n",
       "      <td>Tehran, Mon Amour: Obama Tried to Establish Ti...</td>\n",
       "    </tr>\n",
       "  </tbody>\n",
       "</table>\n",
       "</div>"
      ],
      "text/plain": [
       "  Sentiment                                              Tweet\n",
       "0  positive  Gas by my house hit $3.39!!!! I'm going to Cha...\n",
       "1  negative  Theo Walcott is still shit, watch Rafa and Joh...\n",
       "2  negative  its not that I'm a GSP fan, i just hate Nick D...\n",
       "3  negative  Iranian general says Israel's Iron Dome can't ...\n",
       "4   neutral  Tehran, Mon Amour: Obama Tried to Establish Ti..."
      ]
     },
     "execution_count": 6,
     "metadata": {},
     "output_type": "execute_result"
    }
   ],
   "source": [
    "train_df= train_df[['Sentiment','Tweet']]\n",
    "train_df.head()"
   ]
  },
  {
   "cell_type": "markdown",
   "metadata": {},
   "source": [
    "Split the dataset into train and test sets. This test set will act as our validation set and we will select the best performing\n",
    "classifiers for the final test set evaluation"
   ]
  },
  {
   "cell_type": "code",
   "execution_count": 7,
   "metadata": {},
   "outputs": [
    {
     "name": "stdout",
     "output_type": "stream",
     "text": [
      "[1 2 2 ... 2 2 2]\n",
      "[1 1 0 ... 2 2 1]\n"
     ]
    }
   ],
   "source": [
    "msg_train, msg_test, label_train, label_test = train_test_split(train_df['Tweet'], train_df['Sentiment'], test_size=0.2,random_state = 32)\n",
    "\n",
    "#create numeric categories using the LabelEncoder and fit-transorm pipeline\n",
    "le = preprocessing.LabelEncoder()\n",
    "le.fit(label_train)\n",
    "label_train = le.transform(label_train)\n",
    "label_test = le.transform(label_test)\n",
    "\n",
    "print(label_train)\n",
    "print(label_test)"
   ]
  },
  {
   "cell_type": "markdown",
   "metadata": {},
   "source": [
    "This function tokenizes and creates embeddings. We also filter stopwords because we would likely\n",
    "end up with some tweets having generic word embeddings for vectors such as \"the\".\n",
    "The final array for every tweet is the mean array of its tweets, otherwise we just create a zeros array of the same size\n",
    "(in case of a tweet not having any word in our embeddings file). We also have a similar function for creating vectors from lexica"
   ]
  },
  {
   "cell_type": "code",
   "execution_count": 8,
   "metadata": {},
   "outputs": [],
   "source": [
    "def create_embeddings_vectors(msg,emb_size):\n",
    "    tokenized_tweets = []\n",
    "    for row in msg:\n",
    "        s = row.translate(None, string.punctuation)\n",
    "        tokens = word_tokenize(s.decode('utf-8'))\n",
    "        filtered_tweet = [w.lower() for w in tokens if not w in stopwords.words('english')]\n",
    "        tokenized_tweets.append(filtered_tweet)\n",
    "    mean_tweets = []\n",
    "    for tweet in tokenized_tweets:\n",
    "        list_arr = []\n",
    "        for word in tweet:\n",
    "            if word in word_vec:\n",
    "                list_arr.append(word_vec[word])\n",
    "        if list_arr == []:\n",
    "            mean_arr = np.zeros(emb_size)\n",
    "            #meantw =np.mean( mean_arr, axis=0 )\n",
    "            mean_tweets.append(meantw)\n",
    "        else:\n",
    "            mean_arr= np.array(list_arr)\n",
    "            meantw =np.mean( mean_arr, axis=0 )\n",
    "            mean_tweets.append(meantw) \n",
    "    return mean_tweets\n",
    "\n",
    "import scipy\n",
    "\n",
    "def create_additional_vectors(msg,dict_list,dictionaries):\n",
    "    tokenized_tweets = []\n",
    "    for row in msg:\n",
    "        s = row.translate(None, string.punctuation)\n",
    "        tokens = word_tokenize(s.decode('utf-8'))\n",
    "        filtered_tweet = [w.lower() for w in tokens if not w in stopwords.words('english')]\n",
    "        tokenized_tweets.append(filtered_tweet)\n",
    "    vectors = []\n",
    "    for tweet in tokenized_tweets:\n",
    "        newfeatures = []\n",
    "        for N in dictionaries_list: \n",
    "            list_arr = []\n",
    "            dict = dictionaries[N]\n",
    "            for word in tweet:\n",
    "                if word in dict:\n",
    "                    list_arr.append(dict[word])\n",
    "            if list_arr == []:\n",
    "                mean_arr = 0\n",
    "                newfeatures.append(mean_arr)\n",
    "            else:\n",
    "                meantw =scipy.mean(list_arr)\n",
    "                newfeatures.append(meantw)\n",
    "                \n",
    "        newfeatures = np.array(newfeatures)\n",
    "        vectors.append(newfeatures)\n",
    "    return vectors"
   ]
  },
  {
   "cell_type": "markdown",
   "metadata": {},
   "source": [
    "Load the lexica files"
   ]
  },
  {
   "cell_type": "code",
   "execution_count": 9,
   "metadata": {},
   "outputs": [],
   "source": [
    "import os\n",
    "import io\n",
    "\n",
    "def isfloat(value):\n",
    "  try:\n",
    "    float(value)\n",
    "    return True\n",
    "  except ValueError:\n",
    "    return False\n",
    "\n",
    "base = 'C:\\\\Users\\\\chris_000\\\\Desktop\\\\lexica\\\\'\n",
    "dictionaries = {}\n",
    "dictionaries_list = []\n",
    "for filename in os.listdir(base):\n",
    "    #print filename\n",
    "    dict_name = filename.split('.')[0]\n",
    "    #print dict_name\n",
    "    embeddings_dict = {}\n",
    "    f = io.open(base+filename, \"r\", encoding=\"utf-8\")\n",
    "    for i, line in enumerate(f):\n",
    "        values = line.split()\n",
    "        #print values\n",
    "        word = values[0]\n",
    "        if len(values) == 1:\n",
    "            continue\n",
    "        if isfloat(values[1]):\n",
    "            valence = np.asarray(values[1], dtype='float32')\n",
    "            embeddings_dict[word] = valence\n",
    "        else:\n",
    "            continue\n",
    "    dictionaries[dict_name] = embeddings_dict\n",
    "    dictionaries_list.append(dict_name)"
   ]
  },
  {
   "cell_type": "markdown",
   "metadata": {},
   "source": [
    "Create the three different vectors we will need (bow, tdfid, embeddings) using the sklearn vectorizers and our own for the embeddings"
   ]
  },
  {
   "cell_type": "code",
   "execution_count": 10,
   "metadata": {},
   "outputs": [],
   "source": [
    "vectorizer = CountVectorizer()\n",
    "\n",
    "X_train = vectorizer.fit_transform(msg_train)\n",
    "X_test = vectorizer.transform(msg_test)\n",
    "\n",
    "vectorizer_2 = TfidfVectorizer()\n",
    "X_train_2 = vectorizer_2.fit_transform(msg_train)\n",
    "X_test_2 = vectorizer_2.transform(msg_test)\n",
    "\n",
    "X_train_3 = create_embeddings_vectors(msg_train,200)\n",
    "X_test_3 = create_embeddings_vectors(msg_test,200)"
   ]
  },
  {
   "cell_type": "code",
   "execution_count": 11,
   "metadata": {},
   "outputs": [],
   "source": [
    "test_vectors =create_additional_vectors(msg_test,dictionaries_list,dictionaries)\n",
    "train_vectors =create_additional_vectors(msg_train,dictionaries_list,dictionaries)\n",
    "\n",
    "for vector in test_vectors:\n",
    "    np.nan_to_num(vector,copy=False)\n",
    "for vector in train_vectors:\n",
    "    np.nan_to_num(vector,copy=False)\n",
    "\n",
    "X_train_4=[np.concatenate([a,b]) for a, b in zip(X_train_3, train_vectors)]\n",
    "X_test_4=[np.concatenate([a,b]) for a, b in zip(X_test_3, test_vectors)]"
   ]
  },
  {
   "cell_type": "markdown",
   "metadata": {},
   "source": []
  },
  {
   "cell_type": "code",
   "execution_count": 12,
   "metadata": {},
   "outputs": [
    {
     "data": {
      "text/plain": [
       "'\\nindex=0\\nfor x in X_train_3:\\n    if x.size != 200:\\n        print x\\n        print index\\n    index+=1\\nindex=0\\nfor x in X_test_3:\\n    if x.size != 200:\\n        print x\\n        print index\\n    index+=1  \\n'"
      ]
     },
     "execution_count": 12,
     "metadata": {},
     "output_type": "execute_result"
    }
   ],
   "source": [
    "'''\n",
    "index=0\n",
    "for x in X_train_3:\n",
    "    if x.size != 200:\n",
    "        print x\n",
    "        print index\n",
    "    index+=1\n",
    "index=0\n",
    "for x in X_test_3:\n",
    "    if x.size != 200:\n",
    "        print x\n",
    "        print index\n",
    "    index+=1  \n",
    "'''\n",
    "        "
   ]
  },
  {
   "cell_type": "markdown",
   "metadata": {},
   "source": [
    "Knn classifier: we fit each kind of vector in our knn classifiers of varying neighbors.\n",
    "Note tha knn is prone to curse of dimensionality and has trouble handling large feature vectors(at least the vanilla version) mainly due to the fact that Eucleidian distance matte\n",
    "rs less and less the higher the dimensions.\n",
    "We will see that there is a difference in both Accuracy and F1 metrics when using SVM (SVM is better)"
   ]
  },
  {
   "cell_type": "code",
   "execution_count": 13,
   "metadata": {},
   "outputs": [
    {
     "name": "stderr",
     "output_type": "stream",
     "text": [
      "C:\\Users\\chris_000\\Anaconda2\\lib\\site-packages\\numpy\\core\\_methods.py:36: RuntimeWarning: overflow encountered in reduce\n",
      "  return umr_sum(a, axis, dtype, out, keepdims, initial)\n"
     ]
    }
   ],
   "source": [
    "from sklearn.neighbors import KNeighborsClassifier\n",
    "from sklearn.metrics import precision_score, f1_score\n",
    "from sklearn.model_selection import cross_validate\n",
    "from sklearn import metrics\n",
    "\n",
    "nbors = [1,3,5,10,20,50,75,100]\n",
    "bow_predict_acc=[]\n",
    "bow_f1=[]\n",
    "tfidf_predict_acc = []\n",
    "tfidf_f1=[]\n",
    "emb_pred_acc = []\n",
    "emb_f1=[]\n",
    "embN_pred_acc = []\n",
    "embN_f1=[]\n",
    "for n in nbors:\n",
    "\n",
    "    knn = KNeighborsClassifier(n_neighbors=n)\n",
    "\n",
    "    classifier = knn\n",
    "    classifier.fit(X_train, label_train)\n",
    "    predictions = classifier.predict(X_test)\n",
    "    bow_predict_acc.append(metrics.accuracy_score(label_test, predictions))\n",
    "    bow_f1.append(f1_score(label_test, predictions, average='macro')) \n",
    "    #print \"bow\",n,metrics.accuracy_score(label_test, predictions) \n",
    "\n",
    "    classifier.fit(X_train_2, label_train)\n",
    "    predictions = classifier.predict(X_test_2)\n",
    "    tfidf_predict_acc.append(metrics.accuracy_score(label_test, predictions))\n",
    "    tfidf_f1.append(f1_score(label_test, predictions, average='macro'))\n",
    "    #print \"tfidf\",n,metrics.accuracy_score(label_test, predictions)\n",
    "    \n",
    "    classifier.fit(np.array(X_train_3), label_train)\n",
    "    predictions = classifier.predict(np.array(X_test_3))\n",
    "    emb_pred_acc.append(metrics.accuracy_score(label_test, predictions))\n",
    "    emb_f1.append(f1_score(label_test, predictions, average='macro'))\n",
    "    #print \"emb\",n,metrics.accuracy_score(label_test, predictions)\n",
    "    \n",
    "    classifier.fit(np.array(X_train_4), label_train)\n",
    "    predictions = classifier.predict(np.array(X_test_4))\n",
    "    embN_pred_acc.append(metrics.accuracy_score(label_test, predictions))\n",
    "    embN_f1.append(f1_score(label_test, predictions, average='macro'))\n",
    "    #print \"emb\",n,metrics.accuracy_score(label_test, predictions)"
   ]
  },
  {
   "cell_type": "markdown",
   "metadata": {},
   "source": [
    "Create the arrays for our results using dataframes. We also create heatmaps for both metrics.\n",
    "The best classifer in terms of Accuracy is the TfIdf with n=100.\n",
    "The best classifier for F1 score is the embeddings with n= 10."
   ]
  },
  {
   "cell_type": "code",
   "execution_count": 14,
   "metadata": {},
   "outputs": [],
   "source": [
    "neigh = np.array(nbors)\n",
    "bow = np.array(bow_predict_acc)\n",
    "tfidf = np.array(tfidf_predict_acc)\n",
    "emb = np.array(emb_pred_acc)\n",
    "embN = np.array(embN_pred_acc)\n",
    "\n",
    "bow_f1 = np.array(bow_f1)\n",
    "tfidf_f1 = np.array(tfidf_f1)\n",
    "emb_f1 = np.array(emb_f1)\n",
    "embN_f1 = np.array(embN_f1)\n",
    "\n",
    "results = pd.DataFrame({'Neighbours':neigh,'Bow':bow,'TfIdf':tfidf,'Embeddings':emb,'Embeddings+N':embN})\n",
    "results = results[['Neighbours','Bow','TfIdf','Embeddings','Embeddings+N']]\n",
    "\n",
    "results_f1 = pd.DataFrame({'Neighbours':neigh,'Bow':bow_f1,'TfIdf':tfidf_f1,'Embeddings':emb_f1,'Embeddings+N':embN_f1})\n",
    "results_f1 = results_f1[['Neighbours','Bow','TfIdf','Embeddings','Embeddings+N']]                      \n"
   ]
  },
  {
   "cell_type": "code",
   "execution_count": 15,
   "metadata": {},
   "outputs": [
    {
     "data": {
      "text/html": [
       "<div>\n",
       "<style scoped>\n",
       "    .dataframe tbody tr th:only-of-type {\n",
       "        vertical-align: middle;\n",
       "    }\n",
       "\n",
       "    .dataframe tbody tr th {\n",
       "        vertical-align: top;\n",
       "    }\n",
       "\n",
       "    .dataframe thead th {\n",
       "        text-align: right;\n",
       "    }\n",
       "</style>\n",
       "<table border=\"1\" class=\"dataframe\">\n",
       "  <thead>\n",
       "    <tr style=\"text-align: right;\">\n",
       "      <th></th>\n",
       "      <th>Neighbours</th>\n",
       "      <th>Bow</th>\n",
       "      <th>TfIdf</th>\n",
       "      <th>Embeddings</th>\n",
       "      <th>Embeddings+N</th>\n",
       "    </tr>\n",
       "  </thead>\n",
       "  <tbody>\n",
       "    <tr>\n",
       "      <th>0</th>\n",
       "      <td>1</td>\n",
       "      <td>0.475503</td>\n",
       "      <td>0.506859</td>\n",
       "      <td>0.505612</td>\n",
       "      <td>0.492963</td>\n",
       "    </tr>\n",
       "    <tr>\n",
       "      <th>1</th>\n",
       "      <td>3</td>\n",
       "      <td>0.486371</td>\n",
       "      <td>0.510244</td>\n",
       "      <td>0.519865</td>\n",
       "      <td>0.511491</td>\n",
       "    </tr>\n",
       "    <tr>\n",
       "      <th>2</th>\n",
       "      <td>5</td>\n",
       "      <td>0.489221</td>\n",
       "      <td>0.539462</td>\n",
       "      <td>0.539640</td>\n",
       "      <td>0.538571</td>\n",
       "    </tr>\n",
       "    <tr>\n",
       "      <th>3</th>\n",
       "      <td>10</td>\n",
       "      <td>0.478888</td>\n",
       "      <td>0.564582</td>\n",
       "      <td>0.564760</td>\n",
       "      <td>0.560663</td>\n",
       "    </tr>\n",
       "    <tr>\n",
       "      <th>4</th>\n",
       "      <td>20</td>\n",
       "      <td>0.478354</td>\n",
       "      <td>0.585605</td>\n",
       "      <td>0.574025</td>\n",
       "      <td>0.563335</td>\n",
       "    </tr>\n",
       "    <tr>\n",
       "      <th>5</th>\n",
       "      <td>50</td>\n",
       "      <td>0.463923</td>\n",
       "      <td>0.598610</td>\n",
       "      <td>0.575628</td>\n",
       "      <td>0.560128</td>\n",
       "    </tr>\n",
       "    <tr>\n",
       "      <th>6</th>\n",
       "      <td>75</td>\n",
       "      <td>0.451986</td>\n",
       "      <td>0.600748</td>\n",
       "      <td>0.570640</td>\n",
       "      <td>0.549795</td>\n",
       "    </tr>\n",
       "    <tr>\n",
       "      <th>7</th>\n",
       "      <td>100</td>\n",
       "      <td>0.442722</td>\n",
       "      <td>0.602530</td>\n",
       "      <td>0.570640</td>\n",
       "      <td>0.549795</td>\n",
       "    </tr>\n",
       "  </tbody>\n",
       "</table>\n",
       "</div>"
      ],
      "text/plain": [
       "   Neighbours       Bow     TfIdf  Embeddings  Embeddings+N\n",
       "0           1  0.475503  0.506859    0.505612      0.492963\n",
       "1           3  0.486371  0.510244    0.519865      0.511491\n",
       "2           5  0.489221  0.539462    0.539640      0.538571\n",
       "3          10  0.478888  0.564582    0.564760      0.560663\n",
       "4          20  0.478354  0.585605    0.574025      0.563335\n",
       "5          50  0.463923  0.598610    0.575628      0.560128\n",
       "6          75  0.451986  0.600748    0.570640      0.549795\n",
       "7         100  0.442722  0.602530    0.570640      0.549795"
      ]
     },
     "execution_count": 15,
     "metadata": {},
     "output_type": "execute_result"
    }
   ],
   "source": [
    "results"
   ]
  },
  {
   "cell_type": "code",
   "execution_count": 16,
   "metadata": {},
   "outputs": [
    {
     "data": {
      "text/html": [
       "<div>\n",
       "<style scoped>\n",
       "    .dataframe tbody tr th:only-of-type {\n",
       "        vertical-align: middle;\n",
       "    }\n",
       "\n",
       "    .dataframe tbody tr th {\n",
       "        vertical-align: top;\n",
       "    }\n",
       "\n",
       "    .dataframe thead th {\n",
       "        text-align: right;\n",
       "    }\n",
       "</style>\n",
       "<table border=\"1\" class=\"dataframe\">\n",
       "  <thead>\n",
       "    <tr style=\"text-align: right;\">\n",
       "      <th></th>\n",
       "      <th>Neighbours</th>\n",
       "      <th>Bow</th>\n",
       "      <th>TfIdf</th>\n",
       "      <th>Embeddings</th>\n",
       "      <th>Embeddings+N</th>\n",
       "    </tr>\n",
       "  </thead>\n",
       "  <tbody>\n",
       "    <tr>\n",
       "      <th>0</th>\n",
       "      <td>1</td>\n",
       "      <td>0.405766</td>\n",
       "      <td>0.471932</td>\n",
       "      <td>0.468509</td>\n",
       "      <td>0.461204</td>\n",
       "    </tr>\n",
       "    <tr>\n",
       "      <th>1</th>\n",
       "      <td>3</td>\n",
       "      <td>0.419775</td>\n",
       "      <td>0.480042</td>\n",
       "      <td>0.492463</td>\n",
       "      <td>0.486769</td>\n",
       "    </tr>\n",
       "    <tr>\n",
       "      <th>2</th>\n",
       "      <td>5</td>\n",
       "      <td>0.389447</td>\n",
       "      <td>0.501024</td>\n",
       "      <td>0.507374</td>\n",
       "      <td>0.506572</td>\n",
       "    </tr>\n",
       "    <tr>\n",
       "      <th>3</th>\n",
       "      <td>10</td>\n",
       "      <td>0.348594</td>\n",
       "      <td>0.502227</td>\n",
       "      <td>0.524523</td>\n",
       "      <td>0.519642</td>\n",
       "    </tr>\n",
       "    <tr>\n",
       "      <th>4</th>\n",
       "      <td>20</td>\n",
       "      <td>0.318986</td>\n",
       "      <td>0.509538</td>\n",
       "      <td>0.519657</td>\n",
       "      <td>0.519089</td>\n",
       "    </tr>\n",
       "    <tr>\n",
       "      <th>5</th>\n",
       "      <td>50</td>\n",
       "      <td>0.275810</td>\n",
       "      <td>0.492645</td>\n",
       "      <td>0.510883</td>\n",
       "      <td>0.500392</td>\n",
       "    </tr>\n",
       "    <tr>\n",
       "      <th>6</th>\n",
       "      <td>75</td>\n",
       "      <td>0.251938</td>\n",
       "      <td>0.478134</td>\n",
       "      <td>0.499892</td>\n",
       "      <td>0.486465</td>\n",
       "    </tr>\n",
       "    <tr>\n",
       "      <th>7</th>\n",
       "      <td>100</td>\n",
       "      <td>0.231002</td>\n",
       "      <td>0.471134</td>\n",
       "      <td>0.493817</td>\n",
       "      <td>0.485466</td>\n",
       "    </tr>\n",
       "  </tbody>\n",
       "</table>\n",
       "</div>"
      ],
      "text/plain": [
       "   Neighbours       Bow     TfIdf  Embeddings  Embeddings+N\n",
       "0           1  0.405766  0.471932    0.468509      0.461204\n",
       "1           3  0.419775  0.480042    0.492463      0.486769\n",
       "2           5  0.389447  0.501024    0.507374      0.506572\n",
       "3          10  0.348594  0.502227    0.524523      0.519642\n",
       "4          20  0.318986  0.509538    0.519657      0.519089\n",
       "5          50  0.275810  0.492645    0.510883      0.500392\n",
       "6          75  0.251938  0.478134    0.499892      0.486465\n",
       "7         100  0.231002  0.471134    0.493817      0.485466"
      ]
     },
     "execution_count": 16,
     "metadata": {},
     "output_type": "execute_result"
    }
   ],
   "source": [
    "results_f1"
   ]
  },
  {
   "cell_type": "code",
   "execution_count": 17,
   "metadata": {},
   "outputs": [
    {
     "data": {
      "text/plain": [
       "<matplotlib.axes._subplots.AxesSubplot at 0x6edd4358>"
      ]
     },
     "execution_count": 17,
     "metadata": {},
     "output_type": "execute_result"
    },
    {
     "data": {
      "image/png": "[encoded data removed]",
      "text/plain": [
       "<Figure size 432x288 with 2 Axes>"
      ]
     },
     "metadata": {
      "needs_background": "light"
     },
     "output_type": "display_data"
    }
   ],
   "source": [
    "import seaborn as sns;sns.set()\n",
    "\n",
    "\n",
    "%matplotlib inline\n",
    "results=results.set_index('Neighbours')\n",
    "sns.heatmap(results, annot=True)"
   ]
  },
  {
   "cell_type": "code",
   "execution_count": 18,
   "metadata": {},
   "outputs": [
    {
     "data": {
      "text/plain": [
       "<matplotlib.axes._subplots.AxesSubplot at 0x6ece3e80>"
      ]
     },
     "execution_count": 18,
     "metadata": {},
     "output_type": "execute_result"
    },
    {
     "data": {
      "image/png": "[encoded data removed]",
      "text/plain": [
       "<Figure size 432x288 with 2 Axes>"
      ]
     },
     "metadata": {
      "needs_background": "light"
     },
     "output_type": "display_data"
    }
   ],
   "source": [
    "results_f1=results_f1.set_index(['Neighbours'])\n",
    "sns.heatmap(results_f1, annot=True)"
   ]
  },
  {
   "cell_type": "markdown",
   "metadata": {},
   "source": [
    "We wil now perform a similar grid search for the SVM. We are using linear SVC since non-linear (RBF) kernels scale terribly.\n",
    "The accuracy and f1 score are both better than knn. Also, we find that simple bag of words performs the best for Acc and F1 using\n",
    "hinge and squared hinge loss respectively for c = 0.1"
   ]
  },
  {
   "cell_type": "code",
   "execution_count": 19,
   "metadata": {},
   "outputs": [],
   "source": [
    "from sklearn.svm import SVC, LinearSVC\n",
    "\n",
    "c_param = [1, 2, 0.8, 0.5, 0.3, 0.1]\n",
    "loss = ['hinge','squared_hinge']\n",
    "svm_bow_predict_acc=[]\n",
    "svm_bow_f1=[]\n",
    "svm_tfidf_predict_acc = []\n",
    "svm_tfidf_f1=[]\n",
    "svm_emb_pred_acc = []\n",
    "svm_emb_f1=[]\n",
    "svm_embN_pred_acc = []\n",
    "svm_embN_f1=[]\n",
    "\n",
    "for c in c_param:\n",
    "    for l in loss:\n",
    "        \n",
    "        clf = LinearSVC(C=c,loss=l)\n",
    "        classifier = clf\n",
    "\n",
    "        classifier.fit(X_train, label_train)\n",
    "        svm_predictions = classifier.predict(X_test)\n",
    "        svm_bow_predict_acc.append(metrics.accuracy_score(label_test, svm_predictions))\n",
    "        svm_bow_f1.append(f1_score(label_test, svm_predictions, average='macro')) \n",
    "        #print \"bow\",c,loss,metrics.accuracy_score(label_test, svm_predictions) \n",
    "\n",
    "        classifier.fit(X_train_2, label_train)\n",
    "        svm_predictions_ = classifier.predict(X_test_2)\n",
    "        svm_tfidf_predict_acc.append(metrics.accuracy_score(label_test, svm_predictions_))\n",
    "        svm_tfidf_f1.append(f1_score(label_test, svm_predictions_, average='macro'))\n",
    "        #print \"tfidf\",c,loss,metrics.accuracy_score(label_test, svm_predictions_)\n",
    "\n",
    "        classifier.fit(np.array(X_train_3), label_train)\n",
    "        svm_predictions = classifier.predict(np.array(X_test_3))\n",
    "        svm_emb_pred_acc.append(metrics.accuracy_score(label_test, svm_predictions))\n",
    "        svm_emb_f1.append(f1_score(label_test, svm_predictions, average='macro'))\n",
    "        #print \"emb\",c,loss,metrics.accuracy_score(label_test, svm_predictions)\n",
    "        \n",
    "        classifier.fit(np.array(X_train_4), label_train)\n",
    "        svm_predictions = classifier.predict(np.array(X_test_4))\n",
    "        svm_embN_pred_acc.append(metrics.accuracy_score(label_test, svm_predictions))\n",
    "        svm_embN_f1.append(f1_score(label_test, svm_predictions, average='macro'))\n",
    "        #print \"emb\",c,loss,metrics.accuracy_score(label_test, svm_predictions)\n",
    "\n"
   ]
  },
  {
   "cell_type": "code",
   "execution_count": 20,
   "metadata": {},
   "outputs": [],
   "source": [
    "index = ['1_hinge','1_sq_hinge', '2_hinge','2_sq_hinge', '0.8_hinge','0.8_sq_hinge', '0.5_hinge','0.5_sq_hinge', '0.3_hinge','0.3_sq_hinge', '0.1_hinge','0.1_sq_hinge']\n",
    "index = np.array(index)\n",
    "svm_bow = np.array(svm_bow_predict_acc)\n",
    "svm_tfidf = np.array(svm_tfidf_predict_acc)\n",
    "svm_emb = np.array(svm_emb_pred_acc)\n",
    "svm_embN = np.array(svm_embN_pred_acc)\n",
    "\n",
    "svm_bow_f1 = np.array(svm_bow_f1)\n",
    "svm_tfidf_f1 = np.array(svm_tfidf_f1)\n",
    "svm_emb_f1 = np.array(svm_emb_f1)\n",
    "svm_embN_f1 = np.array(svm_embN_f1)\n",
    "\n",
    "svm_results = pd.DataFrame({'Bow':svm_bow,'TfIdf':svm_tfidf,'Embeddings':svm_emb,'Embeddings+N':svm_embN},index=index)\n",
    "svm_results = svm_results[['Bow','TfIdf','Embeddings','Embeddings+N']]\n",
    "\n",
    "svm_results_f1 = pd.DataFrame({'Bow':svm_bow_f1,'TfIdf':svm_tfidf_f1,'Embeddings':svm_emb_f1,'Embeddings+N':svm_embN_f1},index=index)\n",
    "svm_results_f1 = svm_results_f1[['Bow','TfIdf','Embeddings','Embeddings+N']] "
   ]
  },
  {
   "cell_type": "code",
   "execution_count": 21,
   "metadata": {},
   "outputs": [
    {
     "data": {
      "text/html": [
       "<div>\n",
       "<style scoped>\n",
       "    .dataframe tbody tr th:only-of-type {\n",
       "        vertical-align: middle;\n",
       "    }\n",
       "\n",
       "    .dataframe tbody tr th {\n",
       "        vertical-align: top;\n",
       "    }\n",
       "\n",
       "    .dataframe thead th {\n",
       "        text-align: right;\n",
       "    }\n",
       "</style>\n",
       "<table border=\"1\" class=\"dataframe\">\n",
       "  <thead>\n",
       "    <tr style=\"text-align: right;\">\n",
       "      <th></th>\n",
       "      <th>Bow</th>\n",
       "      <th>TfIdf</th>\n",
       "      <th>Embeddings</th>\n",
       "      <th>Embeddings+N</th>\n",
       "    </tr>\n",
       "  </thead>\n",
       "  <tbody>\n",
       "    <tr>\n",
       "      <th>1_hinge</th>\n",
       "      <td>0.648673</td>\n",
       "      <td>0.674862</td>\n",
       "      <td>0.634242</td>\n",
       "      <td>0.605915</td>\n",
       "    </tr>\n",
       "    <tr>\n",
       "      <th>1_sq_hinge</th>\n",
       "      <td>0.639409</td>\n",
       "      <td>0.666667</td>\n",
       "      <td>0.637092</td>\n",
       "      <td>0.628006</td>\n",
       "    </tr>\n",
       "    <tr>\n",
       "      <th>2_hinge</th>\n",
       "      <td>0.635489</td>\n",
       "      <td>0.668805</td>\n",
       "      <td>0.634242</td>\n",
       "      <td>0.599323</td>\n",
       "    </tr>\n",
       "    <tr>\n",
       "      <th>2_sq_hinge</th>\n",
       "      <td>0.628897</td>\n",
       "      <td>0.656155</td>\n",
       "      <td>0.637092</td>\n",
       "      <td>0.548370</td>\n",
       "    </tr>\n",
       "    <tr>\n",
       "      <th>0.8_hinge</th>\n",
       "      <td>0.651523</td>\n",
       "      <td>0.677712</td>\n",
       "      <td>0.633529</td>\n",
       "      <td>0.628541</td>\n",
       "    </tr>\n",
       "    <tr>\n",
       "      <th>0.8_sq_hinge</th>\n",
       "      <td>0.644753</td>\n",
       "      <td>0.672011</td>\n",
       "      <td>0.636914</td>\n",
       "      <td>0.585605</td>\n",
       "    </tr>\n",
       "    <tr>\n",
       "      <th>0.5_hinge</th>\n",
       "      <td>0.660966</td>\n",
       "      <td>0.670230</td>\n",
       "      <td>0.632817</td>\n",
       "      <td>0.580438</td>\n",
       "    </tr>\n",
       "    <tr>\n",
       "      <th>0.5_sq_hinge</th>\n",
       "      <td>0.648851</td>\n",
       "      <td>0.674149</td>\n",
       "      <td>0.637271</td>\n",
       "      <td>0.605024</td>\n",
       "    </tr>\n",
       "    <tr>\n",
       "      <th>0.3_hinge</th>\n",
       "      <td>0.670764</td>\n",
       "      <td>0.658828</td>\n",
       "      <td>0.633173</td>\n",
       "      <td>0.593087</td>\n",
       "    </tr>\n",
       "    <tr>\n",
       "      <th>0.3_sq_hinge</th>\n",
       "      <td>0.659719</td>\n",
       "      <td>0.672724</td>\n",
       "      <td>0.637271</td>\n",
       "      <td>0.600214</td>\n",
       "    </tr>\n",
       "    <tr>\n",
       "      <th>0.1_hinge</th>\n",
       "      <td>0.677712</td>\n",
       "      <td>0.627650</td>\n",
       "      <td>0.628006</td>\n",
       "      <td>0.570818</td>\n",
       "    </tr>\n",
       "    <tr>\n",
       "      <th>0.1_sq_hinge</th>\n",
       "      <td>0.672546</td>\n",
       "      <td>0.664529</td>\n",
       "      <td>0.638518</td>\n",
       "      <td>0.640656</td>\n",
       "    </tr>\n",
       "  </tbody>\n",
       "</table>\n",
       "</div>"
      ],
      "text/plain": [
       "                   Bow     TfIdf  Embeddings  Embeddings+N\n",
       "1_hinge       0.648673  0.674862    0.634242      0.605915\n",
       "1_sq_hinge    0.639409  0.666667    0.637092      0.628006\n",
       "2_hinge       0.635489  0.668805    0.634242      0.599323\n",
       "2_sq_hinge    0.628897  0.656155    0.637092      0.548370\n",
       "0.8_hinge     0.651523  0.677712    0.633529      0.628541\n",
       "0.8_sq_hinge  0.644753  0.672011    0.636914      0.585605\n",
       "0.5_hinge     0.660966  0.670230    0.632817      0.580438\n",
       "0.5_sq_hinge  0.648851  0.674149    0.637271      0.605024\n",
       "0.3_hinge     0.670764  0.658828    0.633173      0.593087\n",
       "0.3_sq_hinge  0.659719  0.672724    0.637271      0.600214\n",
       "0.1_hinge     0.677712  0.627650    0.628006      0.570818\n",
       "0.1_sq_hinge  0.672546  0.664529    0.638518      0.640656"
      ]
     },
     "execution_count": 21,
     "metadata": {},
     "output_type": "execute_result"
    }
   ],
   "source": [
    "svm_results"
   ]
  },
  {
   "cell_type": "code",
   "execution_count": 22,
   "metadata": {},
   "outputs": [
    {
     "data": {
      "text/html": [
       "<div>\n",
       "<style scoped>\n",
       "    .dataframe tbody tr th:only-of-type {\n",
       "        vertical-align: middle;\n",
       "    }\n",
       "\n",
       "    .dataframe tbody tr th {\n",
       "        vertical-align: top;\n",
       "    }\n",
       "\n",
       "    .dataframe thead th {\n",
       "        text-align: right;\n",
       "    }\n",
       "</style>\n",
       "<table border=\"1\" class=\"dataframe\">\n",
       "  <thead>\n",
       "    <tr style=\"text-align: right;\">\n",
       "      <th></th>\n",
       "      <th>Bow</th>\n",
       "      <th>TfIdf</th>\n",
       "      <th>Embeddings</th>\n",
       "      <th>Embeddings+N</th>\n",
       "    </tr>\n",
       "  </thead>\n",
       "  <tbody>\n",
       "    <tr>\n",
       "      <th>1_hinge</th>\n",
       "      <td>0.617909</td>\n",
       "      <td>0.634169</td>\n",
       "      <td>0.582972</td>\n",
       "      <td>0.556410</td>\n",
       "    </tr>\n",
       "    <tr>\n",
       "      <th>1_sq_hinge</th>\n",
       "      <td>0.607740</td>\n",
       "      <td>0.635319</td>\n",
       "      <td>0.596241</td>\n",
       "      <td>0.572229</td>\n",
       "    </tr>\n",
       "    <tr>\n",
       "      <th>2_hinge</th>\n",
       "      <td>0.605110</td>\n",
       "      <td>0.636961</td>\n",
       "      <td>0.583099</td>\n",
       "      <td>0.541538</td>\n",
       "    </tr>\n",
       "    <tr>\n",
       "      <th>2_sq_hinge</th>\n",
       "      <td>0.598870</td>\n",
       "      <td>0.626889</td>\n",
       "      <td>0.596512</td>\n",
       "      <td>0.513691</td>\n",
       "    </tr>\n",
       "    <tr>\n",
       "      <th>0.8_hinge</th>\n",
       "      <td>0.620476</td>\n",
       "      <td>0.635866</td>\n",
       "      <td>0.579483</td>\n",
       "      <td>0.569483</td>\n",
       "    </tr>\n",
       "    <tr>\n",
       "      <th>0.8_sq_hinge</th>\n",
       "      <td>0.612744</td>\n",
       "      <td>0.639359</td>\n",
       "      <td>0.595836</td>\n",
       "      <td>0.553900</td>\n",
       "    </tr>\n",
       "    <tr>\n",
       "      <th>0.5_hinge</th>\n",
       "      <td>0.628045</td>\n",
       "      <td>0.611558</td>\n",
       "      <td>0.578390</td>\n",
       "      <td>0.551678</td>\n",
       "    </tr>\n",
       "    <tr>\n",
       "      <th>0.5_sq_hinge</th>\n",
       "      <td>0.617044</td>\n",
       "      <td>0.637722</td>\n",
       "      <td>0.596389</td>\n",
       "      <td>0.563940</td>\n",
       "    </tr>\n",
       "    <tr>\n",
       "      <th>0.3_hinge</th>\n",
       "      <td>0.636702</td>\n",
       "      <td>0.583197</td>\n",
       "      <td>0.577070</td>\n",
       "      <td>0.563004</td>\n",
       "    </tr>\n",
       "    <tr>\n",
       "      <th>0.3_sq_hinge</th>\n",
       "      <td>0.627235</td>\n",
       "      <td>0.631411</td>\n",
       "      <td>0.596176</td>\n",
       "      <td>0.549651</td>\n",
       "    </tr>\n",
       "    <tr>\n",
       "      <th>0.1_hinge</th>\n",
       "      <td>0.633741</td>\n",
       "      <td>0.516443</td>\n",
       "      <td>0.561433</td>\n",
       "      <td>0.543394</td>\n",
       "    </tr>\n",
       "    <tr>\n",
       "      <th>0.1_sq_hinge</th>\n",
       "      <td>0.636127</td>\n",
       "      <td>0.604555</td>\n",
       "      <td>0.596113</td>\n",
       "      <td>0.608964</td>\n",
       "    </tr>\n",
       "  </tbody>\n",
       "</table>\n",
       "</div>"
      ],
      "text/plain": [
       "                   Bow     TfIdf  Embeddings  Embeddings+N\n",
       "1_hinge       0.617909  0.634169    0.582972      0.556410\n",
       "1_sq_hinge    0.607740  0.635319    0.596241      0.572229\n",
       "2_hinge       0.605110  0.636961    0.583099      0.541538\n",
       "2_sq_hinge    0.598870  0.626889    0.596512      0.513691\n",
       "0.8_hinge     0.620476  0.635866    0.579483      0.569483\n",
       "0.8_sq_hinge  0.612744  0.639359    0.595836      0.553900\n",
       "0.5_hinge     0.628045  0.611558    0.578390      0.551678\n",
       "0.5_sq_hinge  0.617044  0.637722    0.596389      0.563940\n",
       "0.3_hinge     0.636702  0.583197    0.577070      0.563004\n",
       "0.3_sq_hinge  0.627235  0.631411    0.596176      0.549651\n",
       "0.1_hinge     0.633741  0.516443    0.561433      0.543394\n",
       "0.1_sq_hinge  0.636127  0.604555    0.596113      0.608964"
      ]
     },
     "execution_count": 22,
     "metadata": {},
     "output_type": "execute_result"
    }
   ],
   "source": [
    "svm_results_f1"
   ]
  },
  {
   "cell_type": "code",
   "execution_count": 23,
   "metadata": {},
   "outputs": [
    {
     "data": {
      "text/plain": [
       "<matplotlib.axes._subplots.AxesSubplot at 0x707d1d30>"
      ]
     },
     "execution_count": 23,
     "metadata": {},
     "output_type": "execute_result"
    },
    {
     "data": {
      "image/png": "[encoded data removed]",
      "text/plain": [
       "<Figure size 432x288 with 2 Axes>"
      ]
     },
     "metadata": {
      "needs_background": "light"
     },
     "output_type": "display_data"
    }
   ],
   "source": [
    "sns.heatmap(svm_results, annot=True)"
   ]
  },
  {
   "cell_type": "code",
   "execution_count": 24,
   "metadata": {},
   "outputs": [
    {
     "data": {
      "text/plain": [
       "<matplotlib.axes._subplots.AxesSubplot at 0x63bf8a20>"
      ]
     },
     "execution_count": 24,
     "metadata": {},
     "output_type": "execute_result"
    },
    {
     "data": {
      "image/png": "[encoded data removed]",
      "text/plain": [
       "<Figure size 432x288 with 2 Axes>"
      ]
     },
     "metadata": {
      "needs_background": "light"
     },
     "output_type": "display_data"
    }
   ],
   "source": [
    "sns.heatmap(svm_results_f1, annot=True)"
   ]
  },
  {
   "cell_type": "markdown",
   "metadata": {},
   "source": [
    "For non linear kernels we will only use word embeddings since for high dimensional vectors and lots of features RBF kernel is very costly "
   ]
  },
  {
   "cell_type": "code",
   "execution_count": 25,
   "metadata": {},
   "outputs": [
    {
     "name": "stderr",
     "output_type": "stream",
     "text": [
      "C:\\Users\\chris_000\\Anaconda2\\lib\\site-packages\\sklearn\\metrics\\classification.py:1135: UndefinedMetricWarning: F-score is ill-defined and being set to 0.0 in labels with no predicted samples.\n",
      "  'precision', 'predicted', average, warn_for)\n"
     ]
    }
   ],
   "source": [
    "classifier = SVC(gamma = 'auto')\n",
    "svm_emb_pred_acc = []\n",
    "svm_emb_f1 = []\n",
    "\n",
    "classifier.fit(np.array(X_train_3), label_train)\n",
    "svm_predictions = classifier.predict(np.array(X_test_3))\n",
    "svm_emb_pred_acc.append(metrics.accuracy_score(label_test, svm_predictions))\n",
    "svm_emb_f1.append(f1_score(label_test, svm_predictions, average='macro'))\n",
    "#print \"emb\",c,loss,metrics.accuracy_score(label_test, svm_predictions)\n",
    "\n",
    "classifier.fit(np.array(X_train_4), label_train)\n",
    "svm_predictions = classifier.predict(np.array(X_test_4))\n",
    "svm_emb_pred_acc.append(metrics.accuracy_score(label_test, svm_predictions))\n",
    "svm_emb_f1.append(f1_score(label_test, svm_predictions, average='macro'))\n",
    "#print \"emb\",c,loss,metrics.accuracy_score(label_test, svm_predictions)"
   ]
  },
  {
   "cell_type": "markdown",
   "metadata": {},
   "source": [
    "Both metrics are worse than the liniear svm and the algorithm is way slower"
   ]
  },
  {
   "cell_type": "code",
   "execution_count": 26,
   "metadata": {},
   "outputs": [
    {
     "data": {
      "text/plain": [
       "[0.6190985212898629, 0.40905041867094244]"
      ]
     },
     "execution_count": 26,
     "metadata": {},
     "output_type": "execute_result"
    }
   ],
   "source": [
    "svm_emb_pred_acc"
   ]
  },
  {
   "cell_type": "code",
   "execution_count": 27,
   "metadata": {},
   "outputs": [
    {
     "data": {
      "text/plain": [
       "[0.5305511827034275, 0.19353479158764275]"
      ]
     },
     "execution_count": 27,
     "metadata": {},
     "output_type": "execute_result"
    }
   ],
   "source": [
    "svm_emb_f1"
   ]
  },
  {
   "cell_type": "markdown",
   "metadata": {},
   "source": [
    "Grid-Search/Analysis is now done, we will chose the best performing classifiers and use them to predict the test_set provided.\n",
    "We do this to avoid overfitting since using the final test set in the grid search can cause us to select parameters which fit it best thus overfitting the test set.\n",
    "The ones we will use are the best parameters for each metric (Acc,F1) and each one of the algorithms (KNN, SVM)\n",
    "For KNN we have TfIdf N=100 and Embeddings N=10\n",
    "For SVC we have 0.8_hinge TfIdf and 0.8_sq_hinge TfIdf\n"
   ]
  },
  {
   "cell_type": "code",
   "execution_count": 28,
   "metadata": {},
   "outputs": [
    {
     "name": "stdout",
     "output_type": "stream",
     "text": [
      "[1 2 2 ... 1 1 1]\n"
     ]
    }
   ],
   "source": [
    "base = 'C:\\\\Users\\\\chris_000\\\\Desktop\\\\'\n",
    "f = io.open(base+'SemEval2017_task4_subtaskA_test_english_gold.txt', \"r\", encoding=\"utf-8\")\n",
    "sentiments = []\n",
    "for i, line in enumerate(f):\n",
    "    values = line.split()\n",
    "    #print values\n",
    "    sentiments.append(values[1])\n",
    "test_df = pd.read_table(\"C:\\\\Users\\\\chris_000\\\\Desktop\\\\test2017.tsv\",names=[\"Id1\", \"Id2\", \"Sentiment\", \"Tweet\"],engine=\"python\", sep=\"\\t+\",escapechar=\"\\\\\")\n",
    "\n",
    "\n",
    "test_df=test_df.assign(Label=sentiments)\n",
    "\n",
    "msg_test, msg ,label_test_final,lbl = train_test_split(test_df['Tweet'], test_df['Label'],test_size = 0,shuffle = False)\n",
    "\n",
    "#create numeric categories using the LabelEncoder and fit-transorm pipeline\n",
    "#le = preprocessing.LabelEncoder()\n",
    "#le.fit(label_test_final)\n",
    "label_test_final = le.transform(label_test_final)\n",
    "\n",
    "print(label_test_final)\n",
    "\n",
    "X_test_2_final = vectorizer_2.transform(msg_test)\n",
    "\n",
    "X_test_3_final = create_embeddings_vectors(msg_test,200)"
   ]
  },
  {
   "cell_type": "code",
   "execution_count": 29,
   "metadata": {},
   "outputs": [],
   "source": [
    "clf = LinearSVC(C=0.8,loss='hinge')\n",
    "classifier = clf\n",
    "svm_tfidf_predict_acc = []\n",
    "svm_tfidf_f1 = []\n",
    "   \n",
    "classifier.fit(X_train_2, label_train)\n",
    "svm_predictions_ = classifier.predict(X_test_2_final)\n",
    "svm_tfidf_predict_acc.append(metrics.accuracy_score(label_test_final, svm_predictions_))\n",
    "svm_tfidf_f1.append(f1_score(label_test_final, svm_predictions_, average='macro'))\n",
    "\n",
    "clf = LinearSVC(C=0.8,loss='squared_hinge')\n",
    "classifier = clf\n",
    "classifier.fit(X_train_2, label_train)\n",
    "svm_predictions_ = classifier.predict(X_test_2_final)\n",
    "svm_tfidf_predict_acc.append(metrics.accuracy_score(label_test_final, svm_predictions_))\n",
    "svm_tfidf_f1.append(f1_score(label_test_final, svm_predictions_, average='macro'))\n",
    "\n"
   ]
  },
  {
   "cell_type": "code",
   "execution_count": 30,
   "metadata": {},
   "outputs": [],
   "source": [
    "tfidf_predict_acc = []\n",
    "tfidf_f1=[]\n",
    "emb_pred_acc = []\n",
    "emb_f1=[]"
   ]
  },
  {
   "cell_type": "code",
   "execution_count": 31,
   "metadata": {},
   "outputs": [
    {
     "data": {
      "text/plain": [
       "array([1, 2, 2, ..., 1, 1, 1], dtype=int64)"
      ]
     },
     "execution_count": 31,
     "metadata": {},
     "output_type": "execute_result"
    }
   ],
   "source": [
    "label_test_final"
   ]
  },
  {
   "cell_type": "code",
   "execution_count": 32,
   "metadata": {},
   "outputs": [],
   "source": [
    "knn = KNeighborsClassifier(n_neighbors=10)    \n",
    "classifier = knn    \n",
    "classifier.fit(np.array(X_train_3), label_train)\n",
    "predictions = classifier.predict(np.array(X_test_3_final))\n",
    "emb_pred_acc.append(metrics.accuracy_score(label_test_final, predictions))\n",
    "emb_f1.append(f1_score(label_test_final, predictions, average='macro'))"
   ]
  },
  {
   "cell_type": "code",
   "execution_count": 33,
   "metadata": {},
   "outputs": [],
   "source": [
    "knn = KNeighborsClassifier(n_neighbors=100)\n",
    "classifier = knn\n",
    "classifier.fit(X_train_2, label_train)\n",
    "predictions = classifier.predict(X_test_2_final)\n",
    "tfidf_predict_acc.append(metrics.accuracy_score(label_test_final, predictions))\n",
    "tfidf_f1.append(f1_score(label_test_final, predictions, average='macro'))\n",
    "#print \"tfidf\",n,metrics.accuracy_score(label_test, predictions)"
   ]
  },
  {
   "cell_type": "markdown",
   "metadata": {},
   "source": [
    "we will also run the rbf kernel svm of embeddings since it is better than both knn classifiers"
   ]
  },
  {
   "cell_type": "code",
   "execution_count": 34,
   "metadata": {},
   "outputs": [],
   "source": [
    "classifier = SVC(gamma = 'auto')\n",
    "svmrbf_emb_pred_acc = []\n",
    "svmrbf_emb_f1 = []\n",
    "\n",
    "classifier.fit(np.array(X_train_3), label_train)\n",
    "svm_predictions = classifier.predict(np.array(X_test_3_final))\n",
    "svmrbf_emb_pred_acc.append(metrics.accuracy_score(label_test_final, svm_predictions))\n",
    "svmrbf_emb_f1.append(f1_score(label_test_final, svm_predictions, average='macro'))\n",
    "#print \"emb\",c,loss,metrics.accuracy_score(label_test, svm_predictions)\n"
   ]
  },
  {
   "cell_type": "code",
   "execution_count": 35,
   "metadata": {},
   "outputs": [],
   "source": [
    "index = ['knn_10_emb','knn_100_tfidf','svm_0.8_hinge_tfidf','svm_0.8_squared_hinge_tfidf','svm_rbf_emb']\n",
    "index = np.array(index)\n",
    "results = [emb_pred_acc[0],tfidf_predict_acc[0],svm_tfidf_predict_acc[0],svm_tfidf_predict_acc[1],svmrbf_emb_pred_acc[0]]\n",
    "results_f1 = [emb_f1[0],tfidf_f1[0],svm_tfidf_f1[0],svm_tfidf_f1[1],svmrbf_emb_f1[0]]\n",
    "final_results = pd.DataFrame({'Accuracy':results,'F1_score':results_f1},index=index)\n"
   ]
  },
  {
   "cell_type": "code",
   "execution_count": 36,
   "metadata": {},
   "outputs": [
    {
     "data": {
      "text/html": [
       "<div>\n",
       "<style scoped>\n",
       "    .dataframe tbody tr th:only-of-type {\n",
       "        vertical-align: middle;\n",
       "    }\n",
       "\n",
       "    .dataframe tbody tr th {\n",
       "        vertical-align: top;\n",
       "    }\n",
       "\n",
       "    .dataframe thead th {\n",
       "        text-align: right;\n",
       "    }\n",
       "</style>\n",
       "<table border=\"1\" class=\"dataframe\">\n",
       "  <thead>\n",
       "    <tr style=\"text-align: right;\">\n",
       "      <th></th>\n",
       "      <th>Accuracy</th>\n",
       "      <th>F1_score</th>\n",
       "    </tr>\n",
       "  </thead>\n",
       "  <tbody>\n",
       "    <tr>\n",
       "      <th>knn_10_emb</th>\n",
       "      <td>0.539401</td>\n",
       "      <td>0.528141</td>\n",
       "    </tr>\n",
       "    <tr>\n",
       "      <th>knn_100_tfidf</th>\n",
       "      <td>0.459297</td>\n",
       "      <td>0.381404</td>\n",
       "    </tr>\n",
       "    <tr>\n",
       "      <th>svm_0.8_hinge_tfidf</th>\n",
       "      <td>0.565939</td>\n",
       "      <td>0.537589</td>\n",
       "    </tr>\n",
       "    <tr>\n",
       "      <th>svm_0.8_squared_hinge_tfidf</th>\n",
       "      <td>0.551937</td>\n",
       "      <td>0.535340</td>\n",
       "    </tr>\n",
       "    <tr>\n",
       "      <th>svm_rbf_emb</th>\n",
       "      <td>0.591013</td>\n",
       "      <td>0.554032</td>\n",
       "    </tr>\n",
       "  </tbody>\n",
       "</table>\n",
       "</div>"
      ],
      "text/plain": [
       "                             Accuracy  F1_score\n",
       "knn_10_emb                   0.539401  0.528141\n",
       "knn_100_tfidf                0.459297  0.381404\n",
       "svm_0.8_hinge_tfidf          0.565939  0.537589\n",
       "svm_0.8_squared_hinge_tfidf  0.551937  0.535340\n",
       "svm_rbf_emb                  0.591013  0.554032"
      ]
     },
     "execution_count": 36,
     "metadata": {},
     "output_type": "execute_result"
    }
   ],
   "source": [
    "final_results"
   ]
  },
  {
   "cell_type": "markdown",
   "metadata": {},
   "source": [
    "We can see that the RBF kernel SVM performs the best on our test data. This means that it's more robust and didn't overfit our previous test set (validation set) like the knn with n=100 did.Overall SVM seems to be the better choice for our problem and if not for the bad scalling, SVM with RBF kernel would be the best performing algorithm. However, one might chose the linear version of SVM due to better performance without sacrificing too much regarding metric evaluation. "
   ]
  },
  {
   "cell_type": "code",
   "execution_count": null,
   "metadata": {},
   "outputs": [],
   "source": []
  }
 ],
 "metadata": {
  "kernelspec": {
   "display_name": "Python 2",
   "language": "python",
   "name": "python2"
  },
  "language_info": {
   "codemirror_mode": {
    "name": "ipython",
    "version": 2
   },
   "file_extension": ".py",
   "mimetype": "text/x-python",
   "name": "python",
   "nbconvert_exporter": "python",
   "pygments_lexer": "ipython2",
   "version": "2.7.16"
  }
 },
 "nbformat": 4,
 "nbformat_minor": 2
}
