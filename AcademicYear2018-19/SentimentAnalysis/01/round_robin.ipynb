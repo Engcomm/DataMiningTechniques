{
 "cells": [
  {
   "cell_type": "code",
   "execution_count": 1,
   "metadata": {},
   "outputs": [],
   "source": [
    "import sklearn\n",
    "import gensim\n",
    "import pandas as pd \n",
    "import numpy as np\n",
    "import nltk\n",
    "import logging\n",
    "from nltk.corpus import stopwords\n",
    "from nltk import word_tokenize\n",
    "import string\n",
    "\n",
    "from sklearn.feature_extraction.text import TfidfVectorizer\n",
    "from sklearn.feature_extraction.text import CountVectorizer\n",
    "from sklearn.linear_model.logistic import LogisticRegression\n",
    "from sklearn.model_selection import train_test_split, cross_val_score\n",
    "\n",
    "from sklearn import preprocessing\n",
    "\n",
    "logging.basicConfig(format='%(asctime)s : %(levelname)s : %(message)s', level=logging.INFO)"
   ]
  },
  {
   "cell_type": "markdown",
   "metadata": {},
   "source": [
    "dowload NLTK"
   ]
  },
  {
   "cell_type": "code",
   "execution_count": 2,
   "metadata": {},
   "outputs": [],
   "source": [
    "#nltk.download('all')"
   ]
  },
  {
   "cell_type": "markdown",
   "metadata": {},
   "source": [
    "Load our dataset using pandas"
   ]
  },
  {
   "cell_type": "code",
   "execution_count": 3,
   "metadata": {},
   "outputs": [],
   "source": [
    "train_df = pd.read_table(\"C:\\\\Users\\\\chris_000\\\\Desktop\\\\train2017.tsv\",names=[\"Id1\", \"Id2\", \"Sentiment\", \"Tweet\"],engine=\"python\", sep=\"\\t+\",escapechar=\"\\\\\")"
   ]
  },
  {
   "cell_type": "code",
   "execution_count": 4,
   "metadata": {},
   "outputs": [
    {
     "data": {
      "text/html": [
       "<div>\n",
       "<style scoped>\n",
       "    .dataframe tbody tr th:only-of-type {\n",
       "        vertical-align: middle;\n",
       "    }\n",
       "\n",
       "    .dataframe tbody tr th {\n",
       "        vertical-align: top;\n",
       "    }\n",
       "\n",
       "    .dataframe thead th {\n",
       "        text-align: right;\n",
       "    }\n",
       "</style>\n",
       "<table border=\"1\" class=\"dataframe\">\n",
       "  <thead>\n",
       "    <tr style=\"text-align: right;\">\n",
       "      <th></th>\n",
       "      <th>Sentiment</th>\n",
       "      <th>Tweet</th>\n",
       "    </tr>\n",
       "  </thead>\n",
       "  <tbody>\n",
       "    <tr>\n",
       "      <th>0</th>\n",
       "      <td>positive</td>\n",
       "      <td>Gas by my house hit $3.39!!!! I'm going to Cha...</td>\n",
       "    </tr>\n",
       "    <tr>\n",
       "      <th>1</th>\n",
       "      <td>negative</td>\n",
       "      <td>Theo Walcott is still shit, watch Rafa and Joh...</td>\n",
       "    </tr>\n",
       "    <tr>\n",
       "      <th>2</th>\n",
       "      <td>negative</td>\n",
       "      <td>its not that I'm a GSP fan, i just hate Nick D...</td>\n",
       "    </tr>\n",
       "    <tr>\n",
       "      <th>3</th>\n",
       "      <td>negative</td>\n",
       "      <td>Iranian general says Israel's Iron Dome can't ...</td>\n",
       "    </tr>\n",
       "    <tr>\n",
       "      <th>4</th>\n",
       "      <td>neutral</td>\n",
       "      <td>Tehran, Mon Amour: Obama Tried to Establish Ti...</td>\n",
       "    </tr>\n",
       "  </tbody>\n",
       "</table>\n",
       "</div>"
      ],
      "text/plain": [
       "  Sentiment                                              Tweet\n",
       "0  positive  Gas by my house hit $3.39!!!! I'm going to Cha...\n",
       "1  negative  Theo Walcott is still shit, watch Rafa and Joh...\n",
       "2  negative  its not that I'm a GSP fan, i just hate Nick D...\n",
       "3  negative  Iranian general says Israel's Iron Dome can't ...\n",
       "4   neutral  Tehran, Mon Amour: Obama Tried to Establish Ti..."
      ]
     },
     "execution_count": 4,
     "metadata": {},
     "output_type": "execute_result"
    }
   ],
   "source": [
    "train_df= train_df[['Sentiment','Tweet']]\n",
    "train_df.head()"
   ]
  },
  {
   "cell_type": "markdown",
   "metadata": {},
   "source": [
    "Create 3 seperate datasets pos/neg, neg/neut, pos/neut for our 3 classifiers\n"
   ]
  },
  {
   "cell_type": "code",
   "execution_count": 5,
   "metadata": {},
   "outputs": [
    {
     "name": "stdout",
     "output_type": "stream",
     "text": [
      "[2 0 0 ... 1 2 1]\n",
      "[1 2 2 ... 1 1 1]\n"
     ]
    }
   ],
   "source": [
    "import io\n",
    "\n",
    "train_df_1 = train_df[train_df['Sentiment']!='negative']\n",
    "\n",
    "train_df_2 = train_df[train_df['Sentiment']!='positive']\n",
    "\n",
    "train_df_3 = train_df[train_df['Sentiment']!='neutral']\n",
    "\n",
    "#create numeric categories using the LabelEncoder and fit-transorm pipeline\n",
    "le = preprocessing.LabelEncoder()\n",
    "\n",
    "le.fit(train_df['Sentiment'])\n",
    "label_train = le.transform(train_df['Sentiment'])\n",
    "label_train_1 = le.transform(train_df_1['Sentiment'])\n",
    "label_train_2 = le.transform(train_df_2['Sentiment'])\n",
    "label_train_3  = le.transform(train_df_3['Sentiment'])\n",
    "\n",
    "print(label_train)\n",
    "\n",
    "\n",
    "base = 'C:\\\\Users\\\\chris_000\\\\Desktop\\\\'\n",
    "f = io.open(base+'SemEval2017_task4_subtaskA_test_english_gold.txt', \"r\", encoding=\"utf-8\")\n",
    "sentiments = []\n",
    "for i, line in enumerate(f):\n",
    "    values = line.split()\n",
    "    #print values\n",
    "    sentiments.append(values[1])\n",
    "test_df = pd.read_table(\"C:\\\\Users\\\\chris_000\\\\Desktop\\\\test2017.tsv\",names=[\"Id1\", \"Id2\", \"Sentiment\", \"Tweet\"],engine=\"python\", sep=\"\\t+\",escapechar=\"\\\\\")\n",
    "\n",
    "\n",
    "test_df=test_df.assign(Label=sentiments)\n",
    "\n",
    "msg_test, msg ,label_test_final,lbl = train_test_split(test_df['Tweet'], test_df['Label'],test_size = 0,shuffle = False)\n",
    "\n",
    "#create numeric categories using the LabelEncoder and fit-transorm pipeline\n",
    "label_test_final = le.transform(label_test_final)\n",
    "print(label_test_final)"
   ]
  },
  {
   "cell_type": "code",
   "execution_count": 13,
   "metadata": {},
   "outputs": [
    {
     "data": {
      "text/plain": [
       "<16544x33638 sparse matrix of type '<type 'numpy.float64'>'\n",
       "\twith 287315 stored elements in Compressed Sparse Row format>"
      ]
     },
     "execution_count": 13,
     "metadata": {},
     "output_type": "execute_result"
    }
   ],
   "source": [
    "X_train_2"
   ]
  },
  {
   "cell_type": "code",
   "execution_count": 14,
   "metadata": {},
   "outputs": [],
   "source": [
    "\n",
    "vectorizer_2 = TfidfVectorizer()\n",
    "X_train = vectorizer_2.fit_transform(train_df['Tweet'])\n",
    "X_train_1 = vectorizer_2.transform(train_df_1['Tweet'])\n",
    "X_train_2 = vectorizer_2.transform(train_df_2['Tweet'])\n",
    "X_train_3 = vectorizer_2.transform(train_df_3['Tweet'])\n",
    "\n",
    "X_test = vectorizer_2.transform(msg_test)"
   ]
  },
  {
   "cell_type": "markdown",
   "metadata": {},
   "source": [
    "Use linear svm for our binary classification as it's both good-performing and cost-effective"
   ]
  },
  {
   "cell_type": "code",
   "execution_count": 16,
   "metadata": {},
   "outputs": [],
   "source": [
    "from sklearn.neighbors import KNeighborsClassifier\n",
    "from sklearn.metrics import precision_score, f1_score\n",
    "from sklearn.model_selection import cross_validate\n",
    "from sklearn import metrics\n",
    "from sklearn.svm import SVC, LinearSVC\n",
    "\n",
    "\n",
    "\n",
    "\n",
    "svc = LinearSVC(C=0.8)\n",
    "classifier = svc\n",
    "\n",
    "classifier.fit(X_train_1, label_train_1)\n",
    "test_1 = classifier.predict(X_test)\n",
    "train_1 = classifier.predict(X_train)\n",
    "#print \"tfidf\",n,metrics.accuracy_score(label_test, predictions)\n",
    "\n",
    "classifier.fit(X_train_2, label_train_2)\n",
    "test_2 = classifier.predict(X_test)\n",
    "train_2 = classifier.predict(X_train)\n",
    "\n",
    "classifier.fit(X_train_3, label_train_3)\n",
    "test_3 = classifier.predict(X_test)\n",
    "train_3 = classifier.predict(X_train)\n",
    "    "
   ]
  },
  {
   "cell_type": "code",
   "execution_count": 17,
   "metadata": {},
   "outputs": [],
   "source": [
    "rr_test=np.stack((test_1,test_2,test_3), axis=1)\n",
    "rr_train=np.stack((train_1,train_2,train_3), axis=1)"
   ]
  },
  {
   "cell_type": "code",
   "execution_count": 18,
   "metadata": {},
   "outputs": [
    {
     "name": "stdout",
     "output_type": "stream",
     "text": [
      "0.5524377522219237\n",
      "0.5681374145229567\n"
     ]
    }
   ],
   "source": [
    "knn = KNeighborsClassifier(n_neighbors=5)\n",
    "\n",
    "classifier = knn\n",
    "classifier.fit(rr_train, label_train)\n",
    "predictions = classifier.predict(rr_test)\n",
    "acc = metrics.accuracy_score(label_test_final, predictions)\n",
    "f1 = (f1_score(label_test_final, predictions, average='macro')) "
   ]
  },
  {
   "cell_type": "code",
   "execution_count": 23,
   "metadata": {},
   "outputs": [
    {
     "name": "stdout",
     "output_type": "stream",
     "text": [
      "('F1:', 0.5524377522219237)\n",
      "('Accuracy:', 0.5681374145229567)\n"
     ]
    }
   ],
   "source": [
    "print(\"F1:\",f1)\n",
    "print(\"Accuracy:\",acc)"
   ]
  },
  {
   "cell_type": "markdown",
   "metadata": {},
   "source": [
    "Both metrics are better than everything but the rbf svm which performs better at accuracy.In general, stackings techniques and other meta-classifiers tend to perform better than simple ones and even beat state-of-the-art classifiers using simple structures as the main components (e.g. random forests classifier)"
   ]
  },
  {
   "cell_type": "code",
   "execution_count": null,
   "metadata": {},
   "outputs": [],
   "source": []
  }
 ],
 "metadata": {
  "kernelspec": {
   "display_name": "Python 2",
   "language": "python",
   "name": "python2"
  },
  "language_info": {
   "codemirror_mode": {
    "name": "ipython",
    "version": 2
   },
   "file_extension": ".py",
   "mimetype": "text/x-python",
   "name": "python",
   "nbconvert_exporter": "python",
   "pygments_lexer": "ipython2",
   "version": "2.7.16"
  }
 },
 "nbformat": 4,
 "nbformat_minor": 2
}
